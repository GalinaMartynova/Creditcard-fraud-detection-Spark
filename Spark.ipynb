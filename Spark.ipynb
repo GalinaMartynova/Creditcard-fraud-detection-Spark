{
 "cells": [
  {
   "cell_type": "markdown",
   "metadata": {
    "id": "x2Zoxjnp3rGA"
   },
   "source": [
    "# Обнаружение мошенничества с кредитными картами на базе Apache Spark\n"
   ]
  },
  {
   "cell_type": "markdown",
   "metadata": {
    "id": "dNYE7g2t3_SK"
   },
   "source": [
    "Цель лабораторной работы: прогнозирование мошеннических операций при использовании кредитных карт с помощью классических методов машинного обучения. \n",
    "Для получения качественного результата используется программная платформа Apache Spark.\n",
    "\n",
    "**Набор данных:**\n",
    "транзакции, совершенные по кредитным картам в 2013 года европейскими держателями карт. \n",
    "В наборе данных представлены транзакции, произошедшие за 2 дня – 284 807 транзакций. Данные содержат только числовые входные переменные, которые являются результатом преобразования PCA.\n",
    "Характеристики V1, V2, ... V28 - это главные компоненты, полученные с помощью PCA, единственные характеристики, которые не были преобразованы с помощью PCA - это \"Время\" и \"Сумма\". Признак \"Класс\" является целевой переменной и принимает значение 1 в случае мошенничества и 0 в противном случае.\n",
    " \tИсточник данных: https://www.kaggle.com/datasets/mlg-ulb/creditcardfraud?datasetId=310&sortBy=voteCount\n",
    "\n"
   ]
  },
  {
   "cell_type": "markdown",
   "metadata": {
    "id": "yRf3xbWe3jtq"
   },
   "source": [
    "**Apache Spark** - платформа параллельной обработки с открытым исходным кодом, которая поддерживает обработку в памяти, повышая производительность приложений для анализа больших данных. Подсистема обработки Spark призвана ускорить разработку, повысить удобство использования и реализовать сложную аналитику. Возможности распределенного вычисления в памяти Spark отлично подходят для итеративных алгоритмов в машинном обучении и графовых вычислениях. "
   ]
  },
  {
   "cell_type": "code",
   "execution_count": 119,
   "metadata": {
    "id": "d64-0Y831uss"
   },
   "outputs": [],
   "source": [
    "import warnings \n",
    "warnings.filterwarnings('ignore')"
   ]
  },
  {
   "cell_type": "code",
   "execution_count": 120,
   "metadata": {
    "colab": {
     "base_uri": "https://localhost:8080/"
    },
    "id": "U10ekTXO11Ot",
    "outputId": "da94ca87-f17f-4c75-b81d-1b9a538d90dc"
   },
   "outputs": [
    {
     "name": "stdout",
     "output_type": "stream",
     "text": [
      "Looking in indexes: https://pypi.org/simple, https://us-python.pkg.dev/colab-wheels/public/simple/\n",
      "Requirement already satisfied: pyspark in /usr/local/lib/python3.8/dist-packages (3.3.1)\n",
      "Requirement already satisfied: py4j==0.10.9.5 in /usr/local/lib/python3.8/dist-packages (from pyspark) (0.10.9.5)\n",
      "Looking in indexes: https://pypi.org/simple, https://us-python.pkg.dev/colab-wheels/public/simple/\n",
      "Requirement already satisfied: findspark in /usr/local/lib/python3.8/dist-packages (2.0.1)\n",
      "mkdir: cannot create directory ‘/root/.kaggle’: File exists\n",
      "cp: cannot stat 'kaggle.json': No such file or directory\n",
      "chmod: cannot access '/root/.kaggle/kaggle.json': No such file or directory\n",
      "Traceback (most recent call last):\n",
      "  File \"/usr/local/bin/kaggle\", line 5, in <module>\n",
      "    from kaggle.cli import main\n",
      "  File \"/usr/local/lib/python3.8/dist-packages/kaggle/__init__.py\", line 23, in <module>\n",
      "    api.authenticate()\n",
      "  File \"/usr/local/lib/python3.8/dist-packages/kaggle/api/kaggle_api_extended.py\", line 164, in authenticate\n",
      "    raise IOError('Could not find {}. Make sure it\\'s located in'\n",
      "OSError: Could not find kaggle.json. Make sure it's located in /root/.kaggle. Or use the environment method.\n",
      "unzip:  cannot find or open creditcardfraud.zip, creditcardfraud.zip.zip or creditcardfraud.zip.ZIP.\n"
     ]
    }
   ],
   "source": [
    "!pip install pyspark  #PySpark\n",
    "!pip install findspark\n",
    "!pip install -q kaggle\n",
    "!apt-get install openjdk-8-jdk-headless -qq > /dev/null           #java 8 \n",
    "!wget -q https://downloads.apache.org/spark/spark-3.3.1/spark-3.3.1-bin-hadoop3.tgz\n",
    "!tar xf spark-3.3.1-bin-hadoop3.tgz\n",
    "! mkdir ~/.kaggle\n",
    "! cp kaggle.json ~/.kaggle/\n",
    "! chmod 600 ~/.kaggle/kaggle.json\n",
    "!kaggle datasets download -d mlg-ulb/creditcardfraud\n",
    "!unzip -q creditcardfraud.zip"
   ]
  },
  {
   "cell_type": "code",
   "execution_count": 121,
   "metadata": {
    "id": "UbTsbkCT2NLt"
   },
   "outputs": [],
   "source": [
    "import os                                     # библиотека функций для работы с операционной системой\n",
    "import findspark # выполняет поиск установки pyspark на сервере и добавляет путь установки PySpark sys.path во время выполнения, чтобы импортировать модули PySpark\n",
    "import pyspark\n",
    "import pandas as pd\n",
    "from pyspark.sql import SparkSession          # SparkSession можно использовать для создания DataFrame, регистрации DataFrame в качестве таблиц, выполнения SQL над таблицами\n",
    "from pyspark import SparkContext, SparkConf   # SparkContext предоставляет соединение с кластером Spark и может использоваться для создания RDD и трансляции переменных в этом кластере\n",
    "from pyspark.sql.functions import *           # Список встроенных функций, доступных для DataFrame\n",
    "from pyspark.sql.window import Window         # Window функции используются для вычисления результатов, таких как ранг, номер строки и т. д., по диапазону входных строк\n",
    "\n",
    "# ИМПОРТИРУЕМ   Machine Learning Library (MLlib) это библиотека машинного обучения (ML) Spark. \n",
    "# Цель - сделать практическое машинное обучение масштабируемым и простым. На высоком уровне он предоставляет такие инструменты, как:\n",
    "# * Алгоритмы ML (ML Algorithms): общие алгоритмы обучения, такие как классификация, регрессия, кластеризация и совместная фильтрация\n",
    "# * Функционализация (Featurization): извлечение объектов, преобразование, уменьшение размерности и выбор\n",
    "# * Конвейеры (Pipelines): инструменты для построения, оценки и настройки конвейеров ML\n",
    "# * Сохранение (Persistence): сохранение и загрузка алгоритмов, моделей и конвейеров\n",
    "# * Утилиты (Utilities): линейная алгебра, статистика, обработка данных и т.д.\n",
    "\n",
    "from pyspark.ml import Pipeline  # Конвейеры ML - единый набор высокоуровневых API, построенных поверх фреймов данных, которые помогают создавать и настраивать конвейеры ML\n",
    "from pyspark.ml.classification import GBTClassifier\n",
    "from pyspark.ml.feature import StringIndexer # Индексатор меток, который сопоставляет строковый столбец меток со столбцом ML индексов меток\n",
    "from pyspark.ml.evaluation import BinaryClassificationEvaluator # Оценщик для бинарной классификации\n",
    "from pyspark.ml.linalg import DenseVector # Плотный вектор, представленный массивом значений\n",
    "from pyspark.sql.types import *  # базовый класс всех типов данных в PySpark\n",
    "import pyspark.sql.functions as F # Список встроенных функций, доступных для DataFrame\n",
    "import numpy as np\n",
    "from sklearn.model_selection import train_test_split # исп. для быстрого разделения массива или матрицы на train и test\n",
    "from pyspark.ml.classification import LogisticRegression as LR_sp\n",
    "from sklearn.metrics import confusion_matrix # матрица путаницы для оценки точности классификации\n",
    "from sklearn.linear_model import LogisticRegression\n",
    "from sklearn import metrics\n",
    "\n",
    "\n",
    "import seaborn as sns   # библиотека для создания статистических графиков на Python\n",
    "from matplotlib import pyplot as plt\n",
    "\n",
    "os.environ[\"JAVA_HOME\"] = \"/usr/lib/jvm/java-8-openjdk-amd64\"                   # работает со словарем переменных пользовательской среды\n",
    "os.environ[\"SPARK_HOME\"] = \"/content/spark-3.3.1-bin-hadoop3\"\n",
    "findspark.init('/content/spark-3.3.1-bin-hadoop3')\n",
    "spark = SparkSession.builder.master(\"local[*]\").getOrCreate()"
   ]
  },
  {
   "cell_type": "code",
   "execution_count": 122,
   "metadata": {
    "colab": {
     "base_uri": "https://localhost:8080/"
    },
    "id": "87w17d9K2YQU",
    "outputId": "ef236bb9-d3c0-4bee-d193-6e8b25bec3ce"
   },
   "outputs": [
    {
     "name": "stdout",
     "output_type": "stream",
     "text": [
      "Mounted at /content/gdrive/\n"
     ]
    }
   ],
   "source": [
    "from google.colab import drive \n",
    "drive.mount('/content/gdrive/', force_remount=True)\n",
    "# https://www.kaggle.com/datasets/mlg-ulb/creditcardfraud"
   ]
  },
  {
   "cell_type": "code",
   "execution_count": 123,
   "metadata": {
    "colab": {
     "base_uri": "https://localhost:8080/"
    },
    "id": "-6JROimY3T58",
    "outputId": "1b11d722-df8f-44e3-c135-82349d2604ab"
   },
   "outputs": [
    {
     "name": "stdout",
     "output_type": "stream",
     "text": [
      "+----+------------------+-------------------+------------------+------------------+-------------------+-------------------+--------------------+------------------+------------------+-------------------+------------------+------------------+------------------+------------------+------------------+-------------------+-------------------+-------------------+-------------------+-------------------+--------------------+-------------------+-------------------+------------------+-------------------+-------------------+--------------------+-------------------+------+-----+\n",
      "|Time|                V1|                 V2|                V3|                V4|                 V5|                 V6|                  V7|                V8|                V9|                V10|               V11|               V12|               V13|               V14|               V15|                V16|                V17|                V18|                V19|                V20|                 V21|                V22|                V23|               V24|                V25|                V26|                 V27|                V28|Amount|Class|\n",
      "+----+------------------+-------------------+------------------+------------------+-------------------+-------------------+--------------------+------------------+------------------+-------------------+------------------+------------------+------------------+------------------+------------------+-------------------+-------------------+-------------------+-------------------+-------------------+--------------------+-------------------+-------------------+------------------+-------------------+-------------------+--------------------+-------------------+------+-----+\n",
      "| 0.0|  -1.3598071336738|-0.0727811733098497|  2.53634673796914|  1.37815522427443| -0.338320769942518|  0.462387777762292|   0.239598554061257|0.0986979012610507| 0.363786969611213| 0.0907941719789316|-0.551599533260813|-0.617800855762348|-0.991389847235408|-0.311169353699879|  1.46817697209427| -0.470400525259478|  0.207971241929242| 0.0257905801985591|  0.403992960255733|  0.251412098239705|  -0.018306777944153|  0.277837575558899| -0.110473910188767|0.0669280749146731|  0.128539358273528| -0.189114843888824|   0.133558376740387|-0.0210530534538215|149.62|    0|\n",
      "| 0.0|  1.19185711131486|   0.26615071205963|  0.16648011335321| 0.448154078460911| 0.0600176492822243|-0.0823608088155687| -0.0788029833323113|0.0851016549148104|-0.255425128109186| -0.166974414004614|  1.61272666105479|  1.06523531137287|  0.48909501589608|-0.143772296441519| 0.635558093258208|  0.463917041022171| -0.114804663102346| -0.183361270123994| -0.145783041325259|-0.0690831352230203|  -0.225775248033138| -0.638671952771851|  0.101288021253234|-0.339846475529127|  0.167170404418143|  0.125894532368176|-0.00898309914322813| 0.0147241691924927|  2.69|    0|\n",
      "| 1.0| -1.35835406159823|  -1.34016307473609|  1.77320934263119| 0.379779593034328| -0.503198133318193|   1.80049938079263|   0.791460956450422| 0.247675786588991| -1.51465432260583|  0.207642865216696| 0.624501459424895| 0.066083685268831| 0.717292731410831|-0.165945922763554|  2.34586494901581|  -2.89008319444231|   1.10996937869599| -0.121359313195888|  -2.26185709530414|  0.524979725224404|   0.247998153469754|  0.771679401917229|  0.909412262347719|-0.689280956490685| -0.327641833735251| -0.139096571514147| -0.0553527940384261|-0.0597518405929204|378.66|    0|\n",
      "| 1.0|-0.966271711572087| -0.185226008082898|  1.79299333957872|-0.863291275036453|-0.0103088796030823|   1.24720316752486|    0.23760893977178| 0.377435874652262| -1.38702406270197|-0.0549519224713749|-0.226487263835401| 0.178228225877303| 0.507756869957169| -0.28792374549456|-0.631418117709045|   -1.0596472454325| -0.684092786345479|   1.96577500349538|   -1.2326219700892| -0.208037781160366|  -0.108300452035545|0.00527359678253453| -0.190320518742841| -1.17557533186321|  0.647376034602038| -0.221928844458407|  0.0627228487293033| 0.0614576285006353| 123.5|    0|\n",
      "| 2.0| -1.15823309349523|  0.877736754848451|    1.548717846511| 0.403033933955121| -0.407193377311653| 0.0959214624684256|   0.592940745385545|-0.270532677192282| 0.817739308235294|  0.753074431976354|-0.822842877946363|  0.53819555014995|   1.3458515932154| -1.11966983471731| 0.175121130008994| -0.451449182813529| -0.237033239362776|-0.0381947870352842|  0.803486924960175|  0.408542360392758|-0.00943069713232919|   0.79827849458971| -0.137458079619063| 0.141266983824769| -0.206009587619756|  0.502292224181569|   0.219422229513348|  0.215153147499206| 69.99|    0|\n",
      "| 2.0|-0.425965884412454|  0.960523044882985|  1.14110934232219|-0.168252079760302|   0.42098688077219|-0.0297275516639742|   0.476200948720027| 0.260314333074874| -0.56867137571251| -0.371407196834471|  1.34126198001957| 0.359893837038039|-0.358090652573631|-0.137133700217612| 0.517616806555742|  0.401725895589603|-0.0581328233640131| 0.0686531494425432|-0.0331937877876282| 0.0849676720682049|  -0.208253514656728| -0.559824796253248|-0.0263976679795373|-0.371426583174346| -0.232793816737034|  0.105914779097957|   0.253844224739337| 0.0810802569229443|  3.67|    0|\n",
      "| 4.0|  1.22965763450793|  0.141003507049326|0.0453707735899449|  1.20261273673594|  0.191880988597645|  0.272708122899098|-0.00515900288250983|0.0812129398830894| 0.464959994783886|-0.0992543211289237| -1.41690724314928|-0.153825826253651| -0.75106271556262|  0.16737196252175|0.0501435942254188| -0.443586797916727|0.00282051247234708|  -0.61198733994012|-0.0455750446637976|  -0.21963255278686|  -0.167716265815783| -0.270709726172363| -0.154103786809305|-0.780055415004671|   0.75013693580659| -0.257236845917139|  0.0345074297438413|0.00516776890624916|  4.99|    0|\n",
      "| 7.0|-0.644269442348146|   1.41796354547385|   1.0743803763556|-0.492199018495015|  0.948934094764157|  0.428118462833089|    1.12063135838353| -3.80786423873589| 0.615374730667027|   1.24937617815176|-0.619467796121913| 0.291474353088705|  1.75796421396042| -1.32386521970526| 0.686132504394383|-0.0761269994382006|   -1.2221273453247| -0.358221569869078|  0.324504731321494| -0.156741852488285|    1.94346533978412|  -1.01545470979971|  0.057503529867291|-0.649709005559993| -0.415266566234811|-0.0516342969262494|   -1.20692108094258|  -1.08533918832377|  40.8|    0|\n",
      "| 7.0| -0.89428608220282|  0.286157196276544|-0.113192212729871|-0.271526130088604|    2.6695986595986|   3.72181806112751|   0.370145127676916| 0.851084443200905|-0.392047586798604| -0.410430432848439|-0.705116586646536|-0.110452261733098|-0.286253632470583|0.0743553603016731|-0.328783050303565| -0.210077268148783| -0.499767968800267|  0.118764861004217|   0.57032816746536| 0.0527356691149697| -0.0734251001059225| -0.268091632235551| -0.204232669947878|   1.0115918018785|  0.373204680146282| -0.384157307702294|  0.0117473564581996|   0.14240432992147|  93.2|    0|\n",
      "| 9.0| -0.33826175242575|   1.11959337641566|  1.04436655157316|-0.222187276738296|   0.49936080649727|  -0.24676110061991|   0.651583206489972|0.0695385865186387|-0.736727316364109| -0.366845639206541|  1.01761446783262| 0.836389570307029|  1.00684351373408|-0.443522816876142| 0.150219101422635|  0.739452777052119| -0.540979921943059|   0.47667726004282|  0.451772964394125|  0.203711454727929|  -0.246913936910008| -0.633752642406113|  -0.12079408408185|-0.385049925313426|-0.0697330460416923| 0.0941988339514961|   0.246219304619926| 0.0830756493473326|  3.68|    0|\n",
      "+----+------------------+-------------------+------------------+------------------+-------------------+-------------------+--------------------+------------------+------------------+-------------------+------------------+------------------+------------------+------------------+------------------+-------------------+-------------------+-------------------+-------------------+-------------------+--------------------+-------------------+-------------------+------------------+-------------------+-------------------+--------------------+-------------------+------+-----+\n",
      "only showing top 10 rows\n",
      "\n"
     ]
    }
   ],
   "source": [
    "data_path = 'gdrive/MyDrive/data/creditcard.csv'\n",
    "data = spark.read.csv(data_path, inferSchema=True, header=True)\n",
    "#просмотр данных через систему Spark\n",
    "data.show(10)"
   ]
  },
  {
   "cell_type": "code",
   "execution_count": 124,
   "metadata": {
    "colab": {
     "base_uri": "https://localhost:8080/"
    },
    "id": "mNPBZOT03stM",
    "outputId": "104fd718-dadb-4cb4-a842-550f7bc01264"
   },
   "outputs": [
    {
     "name": "stdout",
     "output_type": "stream",
     "text": [
      "Проверим количество записей для каждого класса\n",
      "+-----+------+\n",
      "|Class| count|\n",
      "+-----+------+\n",
      "|    0|284315|\n",
      "|    1|   492|\n",
      "+-----+------+\n",
      "\n"
     ]
    }
   ],
   "source": [
    "spark = SparkSession.builder.appName(\"Python Spark SQL basic example\").config(\"spark.some.config.option\", \"some-value\").getOrCreate()\n",
    "data_0 = spark.read.load(data_path, format = 'csv', header = 'true', interSchema = 'true')\n",
    "pyspark.sql.dataframe.DataFrame\n",
    "print('Проверим количество записей для каждого класса')\n",
    "classFreq = data_0.groupBy(\"Class\").count()\n",
    "classFreq.show()"
   ]
  },
  {
   "cell_type": "code",
   "execution_count": 125,
   "metadata": {
    "colab": {
     "base_uri": "https://localhost:8080/"
    },
    "id": "YcmkrPYw63Ih",
    "outputId": "bbb52f81-053a-4504-aca5-0ee13015ce79"
   },
   "outputs": [
    {
     "data": {
      "text/plain": [
       "(1492, 31)"
      ]
     },
     "execution_count": 125,
     "metadata": {},
     "output_type": "execute_result"
    }
   ],
   "source": [
    "data = data_0.toPandas() #Конвертируем в датафрейм Pandas, для удобства визуализации\n",
    "data = data.sample(frac=1)\n",
    "fraud_df = data.loc[data['Class']=='1']\n",
    "non_fraud_df = data.loc[data['Class']=='0'] [:1000]    #берем 1000 строк class 0\n",
    "normal_distributed_df = pd.concat([fraud_df, non_fraud_df])\n",
    "new_df = normal_distributed_df.sample(frac = 1, random_state = 42)\n",
    "new_df.shape"
   ]
  },
  {
   "cell_type": "code",
   "execution_count": 126,
   "metadata": {
    "colab": {
     "base_uri": "https://localhost:8080/",
     "height": 296
    },
    "id": "SrhTJNK168_4",
    "outputId": "a41776f2-c238-45ee-b5cb-f42df04d19a0"
   },
   "outputs": [
    {
     "data": {
      "image/png": "[encoded data removed]",
      "text/plain": [
       "<Figure size 432x288 with 1 Axes>"
      ]
     },
     "metadata": {
      "needs_background": "light"
     },
     "output_type": "display_data"
    }
   ],
   "source": [
    "sns.countplot(x ='Class', data = new_df)\n",
    "plt.title('Распределение классов в подвыборке данных', fontsize =14)\n",
    "plt.show()"
   ]
  },
  {
   "cell_type": "code",
   "execution_count": 127,
   "metadata": {
    "colab": {
     "base_uri": "https://localhost:8080/",
     "height": 529
    },
    "id": "6khh274s7q6K",
    "outputId": "e0c08fc4-bce5-47e9-a91a-e3c8a0cac1f8"
   },
   "outputs": [
    {
     "data": {
      "image/png": "[encoded data removed]",
      "text/plain": [
       "<Figure size 1080x576 with 2 Axes>"
      ]
     },
     "metadata": {
      "needs_background": "light"
     },
     "output_type": "display_data"
    }
   ],
   "source": [
    "f, ax1 = plt.subplots(1, 1, figsize=(15,8))\n",
    "sub_sample_corr = new_df.astype(float).corr()\n",
    "sns.heatmap(sub_sample_corr, cmap='coolwarm_r', annot_kws={'size':15}, ax=ax1)\n",
    "ax1.set_title('Тепловая карта', fontsize=14)  \n",
    "plt.show()   #где цвет синий, там связь выше"
   ]
  },
  {
   "cell_type": "code",
   "execution_count": 128,
   "metadata": {
    "colab": {
     "base_uri": "https://localhost:8080/",
     "height": 573
    },
    "id": "1Zxk9Z-h7xnx",
    "outputId": "c8540063-191a-4cb0-fce6-dc7cdc3f7e5f"
   },
   "outputs": [
    {
     "data": {
      "image/png": "[encoded data removed]",
      "text/plain": [
       "<Figure size 1440x288 with 4 Axes>"
      ]
     },
     "metadata": {
      "needs_background": "light"
     },
     "output_type": "display_data"
    },
    {
     "data": {
      "image/png": "[encoded data removed]",
      "text/plain": [
       "<Figure size 1440x288 with 4 Axes>"
      ]
     },
     "metadata": {
      "needs_background": "light"
     },
     "output_type": "display_data"
    }
   ],
   "source": [
    "# Отрицательные корреляции (чем ниже значение, тем больше вероятность, что это будет мошенническая транзакция)\n",
    "new_df=new_df.astype(float) \n",
    "f, axes = plt.subplots(ncols=4, figsize=(20,4))\n",
    "sns.boxplot(x=\"Class\", y=\"V17\", data=new_df,  ax=axes[0])\n",
    "axes[0].set_title('V17 vs Class Negative Correlation')\n",
    "sns.boxplot(x=\"Class\", y=\"V14\", data=new_df,  ax=axes[1])\n",
    "axes[1].set_title('V14 vs Class Negative Correlation')\n",
    "sns.boxplot(x=\"Class\", y=\"V12\", data=new_df, ax=axes[2])\n",
    "axes[2].set_title('V12 vs Class Negative Correlation')\n",
    "sns.boxplot(x=\"Class\", y=\"V10\", data=new_df, ax=axes[3])\n",
    "axes[3].set_title('V10 vs Class Negative Correlation')\n",
    "plt.show()\n",
    "\n",
    "# Положительные корреляции (чем выше функция, тем выше вероятность того, что это будет мошенническая транзакция)\n",
    "colors = sns.color_palette(\"hls\", 8)\n",
    "f, axes = plt.subplots(ncols=4, figsize=(20,4))\n",
    "sns.boxplot(x=\"Class\", y=\"V11\", data=new_df, palette=colors, ax=axes[0])\n",
    "axes[0].set_title('V11 vs Class Positive Correlation')\n",
    "sns.boxplot(x=\"Class\", y=\"V4\", data=new_df, palette=colors, ax=axes[1])\n",
    "axes[1].set_title('V4 vs Class Positive Correlation')\n",
    "sns.boxplot(x=\"Class\", y=\"V2\", data=new_df, palette=colors, ax=axes[2])\n",
    "axes[2].set_title('V2 vs Class Positive Correlation')\n",
    "sns.boxplot(x=\"Class\", y=\"V19\", data=new_df, palette=colors, ax=axes[3])\n",
    "axes[3].set_title('V19 vs Class Positive Correlation')\n",
    "plt.show()"
   ]
  },
  {
   "cell_type": "code",
   "execution_count": 129,
   "metadata": {
    "id": "HdcaErMR72SR"
   },
   "outputs": [],
   "source": [
    "# Устранение выбросов \n",
    "v14_fraud = new_df['V14'].loc[new_df['Class'] == 1].values\n",
    "q25, q75 = np.percentile(v14_fraud, 25), np.percentile(v14_fraud, 75)\n",
    "v14_iqr = q75 - q25\n",
    "v14_cut_off = v14_iqr * 1.5\n",
    "v14_lower, v14_upper = q25 - v14_cut_off, q75 + v14_cut_off\n",
    "outliers = [x for x in v14_fraud if x < v14_lower or x > v14_upper]\n",
    "new_df = new_df.drop(new_df[(new_df['V14'] > v14_upper) | (new_df['V14'] < v14_lower)].index)\n",
    "\n",
    "v12_fraud = new_df['V12'].loc[new_df['Class'] == 1].values\n",
    "q25, q75 = np.percentile(v12_fraud, 25), np.percentile(v12_fraud, 75)\n",
    "v12_iqr = q75 - q25\n",
    "v12_cut_off = v12_iqr * 1.5\n",
    "v12_lower, v12_upper = q25 - v12_cut_off, q75 + v12_cut_off\n",
    "outliers = [x for x in v12_fraud if x < v12_lower or x > v12_upper]\n",
    "new_df = new_df.drop(new_df[(new_df['V12'] > v12_upper) | (new_df['V12'] < v12_lower)].index)\n",
    "\n",
    "v10_fraud = new_df['V10'].loc[new_df['Class'] == 1].values\n",
    "q25, q75 = np.percentile(v10_fraud, 25), np.percentile(v10_fraud, 75)\n",
    "v10_iqr = q75 - q25\n",
    "v10_cut_off = v10_iqr * 1.5\n",
    "v10_lower, v10_upper = q25 - v10_cut_off, q75 + v10_cut_off\n",
    "outliers = [x for x in v10_fraud if x < v10_lower or x > v10_upper]\n",
    "new_df = new_df.drop(new_df[(new_df['V10'] > v10_upper) | (new_df['V10'] < v10_lower)].index)"
   ]
  },
  {
   "cell_type": "code",
   "execution_count": 130,
   "metadata": {
    "id": "eDqAA3T876cR"
   },
   "outputs": [],
   "source": [
    "# Разделение DataFrame на тренировочный и тестовый. test_size - доля набора данных для включения в тестовое разделение -20%\n",
    "# random_state - управляет перетасовкой, применяемой к данным перед применением разделения\n",
    "train_data_pd, test_data_pd = train_test_split(new_df, test_size=0.2, random_state=40) \n",
    "\n",
    "train_data = spark.createDataFrame(train_data_pd)\n",
    "win = Window().orderBy('Time')\n",
    "train_data = train_data.withColumn(\"idx\", row_number().over(win))\n",
    "train_data = train_data.rdd.map(lambda x: (DenseVector(x[0:29]),x[30],x[31]))\n",
    "train_data = spark.createDataFrame(train_data,[\"features\",\"label\",\"index\"])\n",
    "train_data = train_data.select(\"index\",\"features\",\"label\")\n",
    "train_data = train_data.withColumn(\"label\",train_data.label.cast(IntegerType()))\n",
    "\n",
    "test_data = spark.createDataFrame(test_data_pd)\n",
    "win = Window().orderBy('Time')\n",
    "test_data = test_data.withColumn(\"idx\", row_number().over(win))\n",
    "test_data = test_data.rdd.map(lambda x: (DenseVector(x[0:29]),x[30],x[31]))\n",
    "test_data = spark.createDataFrame(test_data,[\"features\",\"label\",\"index\"])\n",
    "test_data = test_data.select(\"index\",\"features\",\"label\")\n",
    "test_data = test_data.withColumn(\"label\",test_data.label.cast(IntegerType()))"
   ]
  },
  {
   "cell_type": "code",
   "execution_count": 131,
   "metadata": {
    "colab": {
     "base_uri": "https://localhost:8080/"
    },
    "id": "3t_QAdN57_WB",
    "outputId": "dafad8aa-7547-4b03-8ebc-be95287f6301"
   },
   "outputs": [
    {
     "name": "stdout",
     "output_type": "stream",
     "text": [
      "+-----+-----+\n",
      "|label|count|\n",
      "+-----+-----+\n",
      "|    1|  372|\n",
      "|    0|  786|\n",
      "+-----+-----+\n",
      "\n"
     ]
    }
   ],
   "source": [
    "train_data.groupBy(\"label\").count().show() # Train"
   ]
  },
  {
   "cell_type": "code",
   "execution_count": 132,
   "metadata": {
    "colab": {
     "base_uri": "https://localhost:8080/"
    },
    "id": "2cpbhknd8CbJ",
    "outputId": "4f2eff2e-93c3-493e-e41d-ff52e59c9a06"
   },
   "outputs": [
    {
     "name": "stdout",
     "output_type": "stream",
     "text": [
      "+-----+-----+\n",
      "|label|count|\n",
      "+-----+-----+\n",
      "|    1|   85|\n",
      "|    0|  205|\n",
      "+-----+-----+\n",
      "\n"
     ]
    }
   ],
   "source": [
    "test_data.groupBy(\"label\").count().show()  # Test"
   ]
  },
  {
   "cell_type": "markdown",
   "metadata": {
    "id": "i0L_rI2c8Iqy"
   },
   "source": [
    "# Gradient-Boosted Trees\n",
    "Алгоритм обучения деревьев с градиентным усилением (GBT) для классификации.Он поддерживает бинарные метки, а также непрерывные функции и категории.\n",
    "Градиентный бустинг - это метод машинного обучения, используемый в задачах регрессии и классификации. Он дает модель прогнозирования в виде совокупности слабых моделей прогнозирования, которые обычно представляют собой деревья решений. Когда дерево решений является слабым учеником, результирующий алгоритм называется деревьями с градиентным усилением. Модель деревьев с градиентным усилением строится поэтапно, но он обобщает другие методы, позволяя оптимизировать произвольную дифференцируемую функцию потерь.\n",
    "https://en.wikipedia.org/wiki/Gradient_boosting\n",
    "\n",
    "\n"
   ]
  },
  {
   "cell_type": "code",
   "execution_count": 133,
   "metadata": {
    "colab": {
     "base_uri": "https://localhost:8080/"
    },
    "id": "DgD4P4xj8Glh",
    "outputId": "f2f14228-914a-44fd-93c9-1f8142597fce"
   },
   "outputs": [
    {
     "name": "stdout",
     "output_type": "stream",
     "text": [
      "+----------+-----+\n",
      "|prediction|count|\n",
      "+----------+-----+\n",
      "|       0.0|  211|\n",
      "|       1.0|   79|\n",
      "+----------+-----+\n",
      "\n"
     ]
    }
   ],
   "source": [
    "gbt = GBTClassifier(featuresCol=\"features\", maxIter=100, maxDepth=8, seed=40) \n",
    "model = gbt.fit(train_data)\n",
    "predictions = model.transform(test_data)\n",
    "predictions.groupBy(\"prediction\").count().show()"
   ]
  },
  {
   "cell_type": "code",
   "execution_count": 134,
   "metadata": {
    "colab": {
     "base_uri": "https://localhost:8080/"
    },
    "id": "rGwtmOjU8Sbj",
    "outputId": "15700919-bd4a-48e8-bc44-8e1d93528117"
   },
   "outputs": [
    {
     "name": "stdout",
     "output_type": "stream",
     "text": [
      "0.9635581061692984\n"
     ]
    }
   ],
   "source": [
    "evaluator = BinaryClassificationEvaluator() # Классификационная метрика позволяет оценивать производительность модели машинного обучения\n",
    "print(evaluator.evaluate(predictions))      # ожидает на вход: rawPrediction, label и необязательного столбца weight. Столбец rawPrediction может быть типа double (двоичное предсказание 0/1 \n",
    "                                            # или вероятность метки 1) или типа vector (вектор длины-2 необработанных прогнозов, оценок или вероятностей меток)"
   ]
  },
  {
   "cell_type": "code",
   "execution_count": 135,
   "metadata": {
    "id": "hb1LCOkf9c-C"
   },
   "outputs": [],
   "source": [
    "predictions = predictions.withColumn(\"fraudPrediction\",when((predictions.label==1)&(predictions.prediction==1),1).otherwise(0)) #True Positives\n",
    "#predictions.groupBy(\"fraudPrediction\").count().show()"
   ]
  },
  {
   "cell_type": "code",
   "execution_count": 136,
   "metadata": {
    "id": "q-O2Bb6c9keR"
   },
   "outputs": [],
   "source": [
    "#predictions.groupBy(\"label\").count().show()"
   ]
  },
  {
   "cell_type": "code",
   "execution_count": 137,
   "metadata": {
    "colab": {
     "base_uri": "https://localhost:8080/"
    },
    "id": "YVRsQJV79pWB",
    "outputId": "54357c44-47af-4eef-9f05-10dc6cb58f49"
   },
   "outputs": [
    {
     "data": {
      "text/plain": [
       "84.70588235294117"
      ]
     },
     "execution_count": 137,
     "metadata": {},
     "output_type": "execute_result"
    }
   ],
   "source": [
    "accurateFraud = predictions.groupBy(\"fraudPrediction\").count().where(predictions.fraudPrediction==1).head()[1]   #предсказание мошенничества\n",
    "totalFraud = predictions.groupBy(\"label\").count().where(predictions.label==1).head()[1]\n",
    "FraudPredictionAccuracy = (accurateFraud/totalFraud)*100   # Sensitivity Точность прогнозирования\n",
    "#FraudPredictionAccuracy  "
   ]
  },
  {
   "cell_type": "code",
   "execution_count": 138,
   "metadata": {
    "colab": {
     "base_uri": "https://localhost:8080/"
    },
    "id": "0ObFGH9L9utx",
    "outputId": "df1871f5-27c6-4c48-f811-be3e9cb0f7bb"
   },
   "outputs": [
    {
     "name": "stdout",
     "output_type": "stream",
     "text": [
      "True Positive:  72 \n",
      "True Negative:  198 \n",
      "False Positive:  7 \n",
      "False Negative:  13\n",
      "\n",
      "\n",
      "Sensitivity: 84.71%\n",
      "Specificity: 96.59%\n",
      "Precision: 91.14%\n",
      "Accuracy: 93.10%\n",
      "F1 Score: 87.80%\n"
     ]
    }
   ],
   "source": [
    "#вычислим матрицу путаницы для оценки полученных результатов:\n",
    "\n",
    "tp = predictions[(predictions.label == 1) & (predictions.prediction == 1)].count()  #True Positives\n",
    "tn = predictions[(predictions.label == 0) & (predictions.prediction == 0)].count()  #True Negatives\n",
    "fp = predictions[(predictions.label == 0) & (predictions.prediction == 1)].count()  #False Positives ошибка I типа (Actual NO, Predicted YES) операция не мошенническая, а представлена мошен.\n",
    "fn = predictions[(predictions.label == 1) & (predictions.prediction == 0)].count()  #False Negatives ошибка II типа (Actual YES, Predicted NO) операция мошенническая, а представлена не мошен.\n",
    "\n",
    "\n",
    "print(\"True Positive: \",tp,\"\\nTrue Negative: \",tn,\"\\nFalse Positive: \",fp,\"\\nFalse Negative: \",fn)\n",
    "print(\"\\n\") \n",
    "print(f'Sensitivity: {tp/(tp+fn)*100:.2f}%')         # recall (отзыв) чувствительность - насколько хорошо модель предсказала фактические события YES\n",
    "print(f'Specificity: {tn/(tn+fp)*100:.2f}%')         # recall специфика - насколько хорошо модель предсказала фактические события NO\n",
    "print(f'Precision: {tp/(tp+fp)*100:.2f}%')           # точность - сколько из всех предсказаний YES было верных\n",
    "print(f'Accuracy: {(tp+tn)/(tp+tn+fp+fn)*100:.2f}%') # точность -из всех прогнозов, сделанных моделью, какой процент оказался верным\n",
    "print(f'F1 Score: {(2*(tp/(tp+fp))*(tp/(tp+fn)))/(tp/(tp+fp)+tp/(tp+fn))*100:.2f}%') #В стат.анализе бинарной классификации явл. мерой точности теста - гармоническое среднее точности и отзыва\n"
   ]
  },
  {
   "cell_type": "markdown",
   "metadata": {
    "id": "2gcwqEwlbzV_"
   },
   "source": [
    "AUC ROC - Area Under the ROC (Receiver Operating Characteristic) Curve\n",
    "график, позволяющий оценить качество бинарной классификации, отображает соотношение между долей объектов от общего количества носителей признака, верно классифицированных как несущие признак (англ. true positive rate, TPR, называемой чувствительностью алгоритма классификации), и долей объектов от общего количества объектов, не несущих признака, ошибочно классифицированных как несущие признак (англ. false positive rate, FPR, величина 1-FPR называется специфичностью алгоритма классификации) при варьировании порога решающего правила.\n",
    "\n",
    "Также известна как кривая ошибок. Анализ классификаций с применением ROC-кривых называется ROC-анализом\n",
    "\n",
    "https://ru.wikipedia.org/wiki/ROC-кривая"
   ]
  },
  {
   "cell_type": "code",
   "execution_count": 139,
   "metadata": {
    "colab": {
     "base_uri": "https://localhost:8080/"
    },
    "id": "t4Ouu24EckHu",
    "outputId": "c98d8642-365d-47b4-f0c9-e4c63524e58a"
   },
   "outputs": [
    {
     "name": "stdout",
     "output_type": "stream",
     "text": [
      "Area under ROC Curve: 0.9636\n"
     ]
    }
   ],
   "source": [
    "auroc = evaluator.evaluate(predictions, {evaluator.metricName: \"areaUnderROC\"})\n",
    "print(\"Area under ROC Curve: {:.4f}\".format(auroc))"
   ]
  },
  {
   "cell_type": "code",
   "execution_count": 140,
   "metadata": {
    "id": "mo6JkTZ6Zi5I"
   },
   "outputs": [],
   "source": [
    "from pyspark.mllib.evaluation import BinaryClassificationMetrics\n",
    "class CurveMetrics(BinaryClassificationMetrics):\n",
    "    def __init__(self, *args):\n",
    "        super(CurveMetrics, self).__init__(*args)\n",
    "    def _to_list(self, rdd):\n",
    "        points = []\n",
    "        for row in rdd.collect():\n",
    "            points += [(float(row._1()), float(row._2()))]\n",
    "        return points\n",
    "    def get_curve(self, method):\n",
    "        rdd = getattr(self._java_model, method)().toJavaRDD()\n",
    "        return self._to_list(rdd)"
   ]
  },
  {
   "cell_type": "code",
   "execution_count": 141,
   "metadata": {
    "colab": {
     "base_uri": "https://localhost:8080/",
     "height": 312
    },
    "id": "RmXaVbryXJd5",
    "outputId": "87762e99-933a-4fc9-af20-8262ee04041d"
   },
   "outputs": [
    {
     "data": {
      "text/plain": [
       "[<matplotlib.lines.Line2D at 0x7f69f1b88d60>]"
      ]
     },
     "execution_count": 141,
     "metadata": {},
     "output_type": "execute_result"
    },
    {
     "data": {
      "image/png": "[encoded data removed]",
      "text/plain": [
       "<Figure size 432x288 with 1 Axes>"
      ]
     },
     "metadata": {
      "needs_background": "light"
     },
     "output_type": "display_data"
    }
   ],
   "source": [
    "import matplotlib.pyplot as plt\n",
    "from matplotlib.pyplot import *\n",
    "preds = predictions.select('label','probability').rdd.map(lambda row: (float(row['probability'][1]), float(row['label'])))\n",
    "points = CurveMetrics(preds).get_curve('roc')\n",
    "\n",
    "plt.figure()\n",
    "x_val = [x[0] for x in points]\n",
    "y_val = [x[1] for x in points]\n",
    "plt.title('ROC Curve')\n",
    "plt.xlabel('False Positive Rate (1 - Specificity)')\n",
    "plt.ylabel('True Positive Rate (Sensitivity)')\n",
    "plt.plot(x_val, y_val)"
   ]
  },
  {
   "cell_type": "markdown",
   "metadata": {
    "id": "QZMzffrC-Uhp"
   },
   "source": [
    "# Логистическая регрессия (spark)\n",
    "В spark.ml логистическая регрессия может использоваться для прогнозирования бинарного результата с помощью биномиальной логистической регрессии или для прогнозирования многоклассового результата с помощью мультиномиальной логистической регрессии. "
   ]
  },
  {
   "cell_type": "code",
   "execution_count": 142,
   "metadata": {
    "id": "8NHt1HSg-OHp"
   },
   "outputs": [],
   "source": [
    "lr_sp = LR_sp(featuresCol=\"features\", maxIter=100)\n",
    "lrModel_sp = lr_sp.fit(train_data)"
   ]
  },
  {
   "cell_type": "code",
   "execution_count": 143,
   "metadata": {
    "colab": {
     "base_uri": "https://localhost:8080/"
    },
    "id": "dYR7lrsz-ad5",
    "outputId": "19e9b938-72ea-4432-b978-3005994f4100"
   },
   "outputs": [
    {
     "name": "stdout",
     "output_type": "stream",
     "text": [
      "+----------+-----+\n",
      "|prediction|count|\n",
      "+----------+-----+\n",
      "|       0.0|  208|\n",
      "|       1.0|   82|\n",
      "+----------+-----+\n",
      "\n"
     ]
    }
   ],
   "source": [
    "predictions_lr_sp = lrModel_sp.transform(test_data)\n",
    "predictions_lr_sp.groupBy(\"prediction\").count().show()"
   ]
  },
  {
   "cell_type": "code",
   "execution_count": 144,
   "metadata": {
    "colab": {
     "base_uri": "https://localhost:8080/"
    },
    "id": "snDF9A1t-gKy",
    "outputId": "4113e489-7b71-454e-e1df-b0a6ed6f74ea"
   },
   "outputs": [
    {
     "name": "stdout",
     "output_type": "stream",
     "text": [
      "0.973486370157822\n"
     ]
    }
   ],
   "source": [
    "print(evaluator.evaluate(predictions_lr_sp))"
   ]
  },
  {
   "cell_type": "code",
   "execution_count": 145,
   "metadata": {
    "colab": {
     "base_uri": "https://localhost:8080/"
    },
    "id": "B8RDFwky-jJ6",
    "outputId": "9e4c2b45-1c86-490a-c558-8b468186aad9"
   },
   "outputs": [
    {
     "name": "stdout",
     "output_type": "stream",
     "text": [
      "+---------------+-----+\n",
      "|fraudPrediction|count|\n",
      "+---------------+-----+\n",
      "|              1|   78|\n",
      "|              0|  212|\n",
      "+---------------+-----+\n",
      "\n"
     ]
    },
    {
     "data": {
      "text/plain": [
       "91.76470588235294"
      ]
     },
     "execution_count": 145,
     "metadata": {},
     "output_type": "execute_result"
    }
   ],
   "source": [
    "predictions_lr_sp = predictions_lr_sp.withColumn(\"fraudPrediction\",when((predictions_lr_sp.label==1)&(predictions_lr_sp.prediction==1),1).otherwise(0))\n",
    "predictions_lr_sp.groupBy(\"fraudPrediction\").count().show()\n",
    "accurateFraud = predictions_lr_sp.groupBy(\"fraudPrediction\").count().where(predictions_lr_sp.fraudPrediction==1).head()[1]\n",
    "totalFraud = predictions_lr_sp.groupBy(\"label\").count().where(predictions_lr_sp.label==1).head()[1]\n",
    "FraudPredictionAccuracy = (accurateFraud/totalFraud)*100\n",
    "FraudPredictionAccuracy"
   ]
  },
  {
   "cell_type": "code",
   "execution_count": 146,
   "metadata": {
    "colab": {
     "base_uri": "https://localhost:8080/"
    },
    "id": "rxVZHBck_OYR",
    "outputId": "6f0afa90-9153-4504-e8cb-69e6db0e1470"
   },
   "outputs": [
    {
     "name": "stdout",
     "output_type": "stream",
     "text": [
      "True Positive:  78 \n",
      "True Negative:  201 \n",
      "False Positive:  4 \n",
      "False Negative:  7\n",
      "\n",
      "\n",
      "Sensitivity: 91.76%\n",
      "Specificity: 98.05%\n",
      "Precision: 95.12%\n",
      "Accuracy: 96.21%\n",
      "F1 Score: 93.41%\n"
     ]
    }
   ],
   "source": [
    "#вычислим матрицу пуктаницы для оценки полученных результатов:\n",
    "tp = predictions_lr_sp[(predictions_lr_sp.label == 1) & (predictions_lr_sp.prediction == 1)].count() #True Positives\n",
    "tn = predictions_lr_sp[(predictions_lr_sp.label == 0) & (predictions_lr_sp.prediction == 0)].count() #True Negatives\n",
    "fp = predictions_lr_sp[(predictions_lr_sp.label == 0) & (predictions_lr_sp.prediction == 1)].count() #False Positives ошибка I типа (Actual NO, Predicted YES) операция не мошенническая, а представлена мошен.\n",
    "fn = predictions_lr_sp[(predictions_lr_sp.label == 1) & (predictions_lr_sp.prediction == 0)].count() #False Negatives ошибка II типа (Actual YES, Predicted NO) операция мошенническая, а представлена не мошен.\n",
    "\n",
    "print(\"True Positive: \",tp,\"\\nTrue Negative: \",tn,\"\\nFalse Positive: \",fp,\"\\nFalse Negative: \",fn)\n",
    "print(\"\\n\") \n",
    "print(f'Sensitivity: {tp/(tp+fn)*100:.2f}%')         # recall (отзыв) чувствительность - насколько хорошо модель предсказала фактические события YES\n",
    "print(f'Specificity: {tn/(tn+fp)*100:.2f}%')         # recall специфика - насколько хорошо модель предсказала фактические события NO\n",
    "print(f'Precision: {tp/(tp+fp)*100:.2f}%')           # точность - сколько из всех предсказаний YES было верных\n",
    "print(f'Accuracy: {(tp+tn)/(tp+tn+fp+fn)*100:.2f}%') # точность -из всех прогнозов, сделанных моделью, какой процент оказался верным\n",
    "print(f'F1 Score: {(2*(tp/(tp+fp))*(tp/(tp+fn)))/(tp/(tp+fp)+tp/(tp+fn))*100:.2f}%') #В стат.анализе бинарной классификации явл. мерой точности теста - гармоническое среднее точности и отзыва\n"
   ]
  },
  {
   "cell_type": "code",
   "execution_count": 147,
   "metadata": {
    "colab": {
     "base_uri": "https://localhost:8080/"
    },
    "id": "uo14ATPCnwUr",
    "outputId": "890fe91e-4bbe-4742-b2b9-8034d84d17a0"
   },
   "outputs": [
    {
     "name": "stdout",
     "output_type": "stream",
     "text": [
      "0.973486370157822\n"
     ]
    }
   ],
   "source": [
    "evaluator_lr_sp = BinaryClassificationEvaluator() # Классификационная метрика позволяет оценивать производительность модели машинного обучения\n",
    "print(evaluator_lr_sp.evaluate(predictions_lr_sp))"
   ]
  },
  {
   "cell_type": "code",
   "execution_count": 148,
   "metadata": {
    "colab": {
     "base_uri": "https://localhost:8080/"
    },
    "id": "ouR5r0dsnmEM",
    "outputId": "e95532e1-e119-422e-fb10-09f85ad9fecc"
   },
   "outputs": [
    {
     "name": "stdout",
     "output_type": "stream",
     "text": [
      "Area under ROC Curve: 0.9735\n"
     ]
    }
   ],
   "source": [
    "# она описывает взаимосвязь между чувствительностью модели (TPR, или true positives rate — доля истинно положительных примеров) \n",
    "# и её специфичностью (описываемой в отношении долей ложноположительных результатов: 1-FPR)\n",
    "\n",
    "\n",
    "auroc_lr_sp = evaluator_lr_sp.evaluate(predictions_lr_sp, {evaluator_lr_sp.metricName: \"areaUnderROC\"})\n",
    "print(\"Area under ROC Curve: {:.4f}\".format(auroc_lr_sp))"
   ]
  },
  {
   "cell_type": "code",
   "execution_count": 149,
   "metadata": {
    "colab": {
     "base_uri": "https://localhost:8080/",
     "height": 312
    },
    "id": "9Vq94wAhojQu",
    "outputId": "a1fdbe24-67a4-4cb5-ec40-a71beb73630a"
   },
   "outputs": [
    {
     "data": {
      "text/plain": [
       "[<matplotlib.lines.Line2D at 0x7f69f914f5e0>]"
      ]
     },
     "execution_count": 149,
     "metadata": {},
     "output_type": "execute_result"
    },
    {
     "data": {
      "image/png": "[encoded data removed]",
      "text/plain": [
       "<Figure size 432x288 with 1 Axes>"
      ]
     },
     "metadata": {
      "needs_background": "light"
     },
     "output_type": "display_data"
    }
   ],
   "source": [
    "import matplotlib.pyplot as plt\n",
    "from matplotlib.pyplot import *\n",
    "preds_1 = predictions_lr_sp.select('label','probability').rdd.map(lambda row: (float(row['probability'][1]), float(row['label'])))\n",
    "points = CurveMetrics(preds_1).get_curve('roc')\n",
    "\n",
    "plt.figure()\n",
    "x_val = [x[0] for x in points]\n",
    "y_val = [x[1] for x in points]\n",
    "plt.title('ROC Curve')\n",
    "plt.xlabel('False Positive Rate (1 - Specificity)')\n",
    "plt.ylabel('True Positive Rate (Sensitivity)')\n",
    "plt.plot(x_val, y_val)"
   ]
  },
  {
   "cell_type": "markdown",
   "metadata": {
    "id": "YOD8PH2X_W3i"
   },
   "source": [
    "# Логистическая регрессия (sklearn)\n",
    "Логистическая регрессия — это разновидность множественной регрессии, общее назначение которой состоит в анализе связи между несколькими независимыми переменными (называемыми также регрессорами или предикторами) и зависимой переменной. Бинарная логистическая регрессия применяется в случае, когда зависимая переменная является бинарной (т.е. может принимать только два значения). С помощью логистической регрессии можно оценивать вероятность того, что событие наступит."
   ]
  },
  {
   "cell_type": "code",
   "execution_count": 150,
   "metadata": {
    "id": "65SDsldRi0Nu"
   },
   "outputs": [],
   "source": [
    "X_train = train_data_pd.drop(['Class'], axis=1).values\n",
    "y_train = train_data_pd['Class'].values\n",
    "X_test = test_data_pd.drop(['Class'], axis=1).values\n",
    "y_test = test_data_pd['Class'].values"
   ]
  },
  {
   "cell_type": "code",
   "execution_count": 151,
   "metadata": {
    "colab": {
     "base_uri": "https://localhost:8080/"
    },
    "id": "gwNkAej4izWu",
    "outputId": "306c3beb-392a-450c-dd16-fdb2faaf4072"
   },
   "outputs": [
    {
     "data": {
      "text/plain": [
       "LogisticRegression()"
      ]
     },
     "execution_count": 151,
     "metadata": {},
     "output_type": "execute_result"
    }
   ],
   "source": [
    "log_regression = LogisticRegression()\n",
    "log_regression. fit (X_train,y_train)"
   ]
  },
  {
   "cell_type": "code",
   "execution_count": 152,
   "metadata": {
    "colab": {
     "base_uri": "https://localhost:8080/"
    },
    "id": "eYmJLd-Xoo2t",
    "outputId": "90383c87-412f-46c7-a438-e48bd2a3dcb0"
   },
   "outputs": [
    {
     "data": {
      "text/plain": [
       "array([[199,   6],\n",
       "       [  8,  77]])"
      ]
     },
     "execution_count": 152,
     "metadata": {},
     "output_type": "execute_result"
    }
   ],
   "source": [
    "predictions = log_regression.predict(X_test)\n",
    "#print(classification_report(y_test, predictions))\n",
    "confusion_matrix(y_test, predictions)"
   ]
  },
  {
   "cell_type": "code",
   "execution_count": 153,
   "metadata": {
    "colab": {
     "base_uri": "https://localhost:8080/"
    },
    "id": "VTbxo-YM_bg5",
    "outputId": "cb4032b6-651f-4e24-f2ca-8379cfac966a"
   },
   "outputs": [
    {
     "name": "stdout",
     "output_type": "stream",
     "text": [
      "True Positive:  77 \n",
      "True Negative:  199 \n",
      "False Positive:  6 \n",
      "False Negative:  8\n",
      "\n",
      "\n",
      "Sensitivity: 90.59%\n",
      "Specificity: 97.07%\n",
      "Precision: 92.77%\n",
      "Accuracy: 95.17%\n",
      "F1 Score: 91.67%\n"
     ]
    }
   ],
   "source": [
    "tn, fp, fn, tp = confusion_matrix(y_test, predictions).ravel()\n",
    "\n",
    "print(\"True Positive: \",tp,\"\\nTrue Negative: \",tn,\"\\nFalse Positive: \",fp,\"\\nFalse Negative: \",fn)\n",
    "print(\"\\n\") \n",
    "print(f'Sensitivity: {tp/(tp+fn)*100:.2f}%')         # recall (отзыв) чувствительность - насколько хорошо модель предсказала фактические события YES\n",
    "print(f'Specificity: {tn/(tn+fp)*100:.2f}%')         # recall специфика - насколько хорошо модель предсказала фактические события NO\n",
    "print(f'Precision: {tp/(tp+fp)*100:.2f}%')           # точность - сколько из всех предсказаний YES было верных\n",
    "print(f'Accuracy: {(tp+tn)/(tp+tn+fp+fn)*100:.2f}%') # точность -из всех прогнозов, сделанных моделью, какой процент оказался верным\n",
    "print(f'F1 Score: {(2*(tp/(tp+fp))*(tp/(tp+fn)))/(tp/(tp+fp)+tp/(tp+fn))*100:.2f}%') #В стат.анализе бинарной классификации явл. мерой точности теста - гармоническое среднее точности и отзыва\n"
   ]
  },
  {
   "cell_type": "code",
   "execution_count": 154,
   "metadata": {
    "colab": {
     "base_uri": "https://localhost:8080/"
    },
    "id": "XSrCoiJki5c-",
    "outputId": "f5bd5d72-4d22-44d3-f76d-34edc91ed83c"
   },
   "outputs": [
    {
     "name": "stdout",
     "output_type": "stream",
     "text": [
      "Area under ROC Curve: 0.9678\n"
     ]
    }
   ],
   "source": [
    "y_pred_proba = log_regression. predict_proba (X_test)[::, 1 ]\n",
    "auc = metrics. roc_auc_score (y_test, y_pred_proba)\n",
    "print(\"Area under ROC Curve: {:.4f}\".format(auc))"
   ]
  },
  {
   "cell_type": "code",
   "execution_count": 155,
   "metadata": {
    "colab": {
     "base_uri": "https://localhost:8080/",
     "height": 295
    },
    "id": "S26EsipSjJ5e",
    "outputId": "5029a98b-c150-4c77-9d6b-45de65e890a9"
   },
   "outputs": [
    {
     "data": {
      "image/png": "[encoded data removed]",
      "text/plain": [
       "<Figure size 432x288 with 1 Axes>"
      ]
     },
     "metadata": {
      "needs_background": "light"
     },
     "output_type": "display_data"
    }
   ],
   "source": [
    "fpr, tpr, _ = metrics. roc_curve (y_test, y_pred_proba)\n",
    "plt.plot (fpr,tpr)\n",
    "plt.title('ROC Curve')\n",
    "plt.ylabel('True Positive Rate (Sensitivity)')\n",
    "plt.xlabel('False Positive Rate (1 - Specificity)')\n",
    "plt.show() "
   ]
  }
 ],
 "metadata": {
  "colab": {
   "provenance": []
  },
  "gpuClass": "standard",
  "kernelspec": {
   "display_name": "Python 3 (ipykernel)",
   "language": "python",
   "name": "python3"
  },
  "language_info": {
   "codemirror_mode": {
    "name": "ipython",
    "version": 3
   },
   "file_extension": ".py",
   "mimetype": "text/x-python",
   "name": "python",
   "nbconvert_exporter": "python",
   "pygments_lexer": "ipython3",
   "version": "3.9.12"
  }
 },
 "nbformat": 4,
 "nbformat_minor": 1
}
